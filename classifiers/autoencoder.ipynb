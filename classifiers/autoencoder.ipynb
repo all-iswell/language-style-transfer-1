{
 "cells": [
  {
   "cell_type": "code",
   "execution_count": 1,
   "metadata": {
    "collapsed": false
   },
   "outputs": [
    {
     "name": "stdout",
     "output_type": "stream",
     "text": [
      "I have a mind to strike thee ere thou speak’st.\n",
      "Yet if thou say Antony lives, is well, Or friends wi\n",
      "I have half a mind to hit you before you speak again.\n",
      "But if Antony is alive, healthy, friendly with\n"
     ]
    }
   ],
   "source": [
    "# import data\n",
    "\n",
    "import os\n",
    "\n",
    "original_dir_path = '../data/shakespeare/original/'\n",
    "modern_dir_path = '../data/shakespeare/modern/'\n",
    "\n",
    "def read_all_files(dir_path):\n",
    "    docs = \"\"\n",
    "    for filename in os.listdir(dir_path):\n",
    "        with open(dir_path + filename, 'r') as file:\n",
    "            docs += file.read()\n",
    "    return docs\n",
    "\n",
    "original_docs = read_all_files(original_dir_path)\n",
    "modern_docs = read_all_files(modern_dir_path)\n",
    "\n",
    "print(original_docs[:100])\n",
    "print(modern_docs[:100])"
   ]
  },
  {
   "cell_type": "code",
   "execution_count": 2,
   "metadata": {
    "collapsed": false
   },
   "outputs": [
    {
     "name": "stdout",
     "output_type": "stream",
     "text": [
      "['I', 'have', 'a', 'mind', 'to', 'strike', 'thee', 'ere', 'thou', 'speak’st', 'Yet', 'if', 'thou', 'say', 'Antony', 'lives,', 'is', 'well,', 'Or', 'friends', 'with', 'Caesar,', 'or', 'not', 'captive', 'to', 'him,', 'I’ll', 'set', 'thee', 'in', 'a', 'shower', 'of', 'gold', 'and', 'hail', 'Rich', 'pearls', 'upon', 'thee', 'Madam,', 'he’s', 'well', 'Well', 'said', 'And', 'friends', 'with', 'Caesar', 'Th’', 'art', 'an', 'honest', 'man', 'Caesar', 'and', 'he', 'are', 'greater', 'friends', 'than', 'ever', 'Make', 'thee', 'a', 'fortune', 'from', 'me', 'But', 'yet,', 'madam—', 'I', 'do', 'not', 'like', '“But', 'yet”', 'It', 'does', 'allay', 'The', 'good', 'precedence', 'Fie', 'upon', '“But', 'yet”', '“But', 'yet”', 'is', 'as', 'a', 'jailer', 'to', 'bring', 'forth', 'Some', 'monstrous', 'malefactor']\n"
     ]
    }
   ],
   "source": [
    "# One-hot encode entire dataset\n",
    "\n",
    "from sklearn.preprocessing import LabelEncoder\n",
    "\n",
    "dataset = (original_docs + \" \" + modern_docs).replace(\".\",\"\").replace(\"\\n\", \" \").split(\" \")\n",
    "print(dataset[:100])\n",
    "\n",
    "enc = LabelEncoder()\n",
    "enc.fit(dataset)\n",
    "V = len(enc.classes_) #size of vocabulary"
   ]
  },
  {
   "cell_type": "code",
   "execution_count": 133,
   "metadata": {
    "collapsed": false
   },
   "outputs": [],
   "source": [
    "import numpy as np\n",
    "\n",
    "original_sentences = original_docs.replace('.',\"\").split('\\n')\n",
    "modern_sentences = modern_docs.replace('.',\"\").split('\\n')\n",
    "\n",
    "original_sentences = original_sentences\n",
    "modern_sentences = modern_sentences\n",
    "\n",
    "max_length = 30\n",
    "\n",
    "X_org = []\n",
    "for sentence in original_sentences:\n",
    "    words = sentence.split(\" \")\n",
    "    try:\n",
    "        words = words[:30]\n",
    "    except:\n",
    "        pass\n",
    "    word_idx = np.array(enc.transform(words))\n",
    "    \n",
    "    arr = np.zeros(max_length)\n",
    "    arr[:len(words)] = word_idx\n",
    "    X_org.append(arr)\n",
    "    \n",
    "X_modern = []\n",
    "for sentence in modern_sentences:\n",
    "    words = sentence.split(\" \")\n",
    "    try:\n",
    "        words = words[:30]\n",
    "    except:\n",
    "        pass\n",
    "    word_idx = np.array(enc.transform(words))\n",
    "    \n",
    "    arr = np.zeros(max_length)\n",
    "    arr[:len(words)] = word_idx\n",
    "    X_modern.append(arr)\n",
    "\n",
    "X_org = np.array(X_org)\n",
    "X_mod = np.array(X_modern)"
   ]
  },
  {
   "cell_type": "code",
   "execution_count": 134,
   "metadata": {
    "collapsed": false
   },
   "outputs": [],
   "source": [
    "import pickle\n",
    "\n",
    "\n",
    "X_dict = {'X_org': X_org, 'X_mod': X_mod}\n",
    "pickle_path = '../models/X_shakespeare_ohe.pickle'\n",
    "\n",
    "with open(pickle_path, 'wb') as f:\n",
    "    pickle.dump(X_dict, f)\n",
    "\n",
    "X_dict_loaded = None\n",
    "with open(pickle_path, 'rb') as f:\n",
    "    X_dict_loaded = pickle.load(f)"
   ]
  },
  {
   "cell_type": "code",
   "execution_count": 85,
   "metadata": {
    "collapsed": true
   },
   "outputs": [],
   "source": [
    "# Overfit Autoencoder\n",
    "\n",
    "import tensorflow as tf\n",
    "\n",
    "def dense(x, n1, n2, name):\n",
    "    with tf.variable_scope(name, reuse=None):\n",
    "        weights = tf.get_variable(\"weights\", shape=[n1, n2], initializer=tf.random_normal_initializer(mean=0, stddev=0.01))\n",
    "        bias = tf.get_variable(\"bias\", shape=[n2], initializer=tf.constant_initializer(0.0))\n",
    "        out = tf.add(tf.matmul(x, weights), bias, name='matmul')\n",
    "        return out\n",
    "\n",
    "input_dim = max_length\n",
    "n_l1 = 100\n",
    "n_l2 = 100\n",
    "z_dim = 2\n",
    "\n",
    "def encoder(x, reuse=False):\n",
    "    if reuse:\n",
    "        tf.get_variable_scope().reuse_variables()\n",
    "    with tf.name_scope('Encoder'):\n",
    "        e_dense_1 = tf.nn.relu(dense(x, input_dim, n_l1, 'e_dense_1'))\n",
    "        e_dense_2 = tf.nn.relu(dense(e_dense_1, n_l1, n_l2, 'e_dense_2'))\n",
    "        latent_variable = dense(e_dense_2, n_l2, z_dim, 'e_latent_variable')\n",
    "        return latent_variable\n",
    "    \n",
    "def decoder(z, reuse=False):\n",
    "    if reuse:\n",
    "        tf.get_varaiable_scope().reuse_variables()\n",
    "    with tf.name_scope('Decodr'):\n",
    "        d_dense_1 = tf.nn.relu(dense(z, z_dim, n_l2, 'd_dense_1'))\n",
    "        d_dense_2 = tf.nn.relu(dense(d_dense_1, n_l2, n_l1, 'd_dense_2'))\n",
    "        output = dense(d_dense_2, n_l2, input_dim, 'd_output')\n",
    "        return output"
   ]
  },
  {
   "cell_type": "code",
   "execution_count": 86,
   "metadata": {
    "collapsed": true
   },
   "outputs": [],
   "source": [
    "tf.reset_default_graph()\n",
    "\n",
    "learning_rate = 0.01\n",
    "beta1 = 0.9\n",
    "\n",
    "x_input = tf.placeholder(tf.float32, [None, max_length])\n",
    "\n",
    "encoder_output = encoder(x_input)\n",
    "decoder_output = decoder(encoder_output)\n",
    "\n",
    "loss = tf.reduce_mean(tf.square(decoder_output - x_input))\n",
    "optimizer = tf.train.AdamOptimizer(learning_rate=learning_rate, beta1=beta1).minimize(loss)"
   ]
  },
  {
   "cell_type": "code",
   "execution_count": 87,
   "metadata": {
    "collapsed": false
   },
   "outputs": [
    {
     "name": "stdout",
     "output_type": "stream",
     "text": [
      "Loss: 10412233.0\n",
      "Loss: 4148458.5\n",
      "Loss: 4148045.25\n",
      "Loss: 4146912.75\n",
      "Loss: 4145893.5\n",
      "Loss: 4147863.5\n",
      "Loss: 4146901.0\n",
      "Loss: 4146691.0\n",
      "Loss: 4146446.25\n",
      "Loss: 4146140.25\n"
     ]
    }
   ],
   "source": [
    "init = tf.global_variables_initializer()\n",
    "num_epochs = 10\n",
    "X = X_org\n",
    "batch_size = 100\n",
    "\n",
    "step = 0\n",
    "with tf.Session() as sess:\n",
    "    sess.run(init)\n",
    "    for i in range(num_epochs):\n",
    "        num_batches = int(X.shape[0] / batch_size)\n",
    "        for b in range(num_batches):\n",
    "            batch_x = X[:(b + 1) * batch_size]\n",
    "            sess.run(optimizer, feed_dict={x_input: batch_x})\n",
    "            if i % 100 == 0:\n",
    "                batch_loss = sess.run(loss, feed_dict={x_input: batch_x})\n",
    "                print(\"Loss: {0}\".format(batch_loss))"
   ]
  },
  {
   "cell_type": "markdown",
   "metadata": {},
   "source": [
    "# LSTM Autoencoder"
   ]
  },
  {
   "cell_type": "code",
   "execution_count": 7,
   "metadata": {
    "collapsed": true
   },
   "outputs": [],
   "source": [
    "def lstm_encoder(x, lstm_units=2, reuse=False):\n",
    "    if reuse:\n",
    "        tf.get_variable_scope().reuse_variables()\n",
    "    with tf.variable_scope('Encoder'):\n",
    "        initializer = tf.contrib.layers.xavier_initializer()\n",
    "        lstm_fw = tf.nn.rnn_cell.LSTMCell(lstm_units, initializer=initializer)\n",
    "\n",
    "        outputs, state = tf.nn.dynamic_rnn(lstm_fw, x, dtype=tf.float32)\n",
    "        return state\n",
    "\n",
    "def lstm_decoder(x, z, lstm_units=2, reuse=False):\n",
    "    if reuse:\n",
    "        tf.get_variable_scope().reuse_variables()\n",
    "    with tf.variable_scope('Decoder'):\n",
    "        initializer = tf.contrib.layers.xavier_initializer()\n",
    "        lstm_fw = tf.nn.rnn_cell.LSTMCell(lstm_units, initializer=initializer)\n",
    "        \n",
    "        zero_tensor = tf.zeros_like(x)\n",
    "        outputs, state = tf.nn.dynamic_rnn(lstm_fw, zero_tensor, initial_state=z)\n",
    "        return outputs"
   ]
  },
  {
   "cell_type": "code",
   "execution_count": 149,
   "metadata": {
    "collapsed": false
   },
   "outputs": [
    {
     "name": "stdout",
     "output_type": "stream",
     "text": [
      "(?, 30, 29309)\n"
     ]
    }
   ],
   "source": [
    "tf.reset_default_graph()\n",
    "\n",
    "learning_rate = 0.01\n",
    "beta1 = 0.9\n",
    "\n",
    "x_input = tf.placeholder(tf.int32, [None, 30])\n",
    "#embedding = tf.expand_dims(x_input, axis=2)\n",
    "embedding = tf.one_hot(x_input, V)\n",
    "\n",
    "encoder_output = lstm_encoder(embedding, lstm_units=V)\n",
    "decoder_output = lstm_decoder(embedding, encoder_output, lstm_units=V)\n",
    "\n",
    "loss = tf.reduce_mean(tf.square(decoder_output - embedding))\n",
    "optimizer = tf.train.AdamOptimizer(learning_rate=learning_rate, beta1=beta1).minimize(loss)"
   ]
  },
  {
   "cell_type": "code",
   "execution_count": null,
   "metadata": {
    "collapsed": false
   },
   "outputs": [],
   "source": []
  },
  {
   "cell_type": "code",
   "execution_count": null,
   "metadata": {
    "collapsed": false
   },
   "outputs": [],
   "source": [
    "init = tf.global_variables_initializer()\n",
    "num_epochs = 1000\n",
    "X = X_org\n",
    "batch_size = 100\n",
    "\n",
    "losses = []\n",
    "step = 0\n",
    "with tf.Session() as sess:\n",
    "    sess.run(init)\n",
    "    for i in range(num_epochs):\n",
    "        num_batches = int(X.shape[0] / batch_size)\n",
    "        for b in range(num_batches):\n",
    "            batch_x = X[:(b + 1) * batch_size]\n",
    "            sess.run(optimizer, feed_dict={x_input: batch_x})\n",
    "            \n",
    "            if b % 10 == 0:\n",
    "                loss_i = sess.run(loss, feed_dict={x_input: X})\n",
    "                print(\"Loss: {0}\".format(loss_i))\n",
    "                losses.append(loss_i)"
   ]
  },
  {
   "cell_type": "markdown",
   "metadata": {},
   "source": [
    "# Char-Level LSTM Autoencoder"
   ]
  },
  {
   "cell_type": "code",
   "execution_count": 3,
   "metadata": {
    "collapsed": false
   },
   "outputs": [
    {
     "name": "stdout",
     "output_type": "stream",
     "text": [
      "I have a mind to strike thee ere thou speak’st.\n",
      "Yet if thou say Antony lives, is well, Or friends wi\n",
      "I have half a mind to hit you before you speak again.\n",
      "But if Antony is alive, healthy, friendly with\n"
     ]
    }
   ],
   "source": [
    "# import data\n",
    "\n",
    "import os\n",
    "\n",
    "original_dir_path = '../data/shakespeare/original/'\n",
    "modern_dir_path = '../data/shakespeare/modern/'\n",
    "\n",
    "def read_all_files(dir_path):\n",
    "    docs = \"\"\n",
    "    for filename in os.listdir(dir_path):\n",
    "        with open(dir_path + filename, 'r') as file:\n",
    "            docs += file.read()\n",
    "    return docs\n",
    "\n",
    "original_docs = read_all_files(original_dir_path)\n",
    "modern_docs = read_all_files(modern_dir_path)\n",
    "\n",
    "print(original_docs[:100])\n",
    "print(modern_docs[:100])"
   ]
  },
  {
   "cell_type": "code",
   "execution_count": 4,
   "metadata": {
    "collapsed": false
   },
   "outputs": [
    {
     "name": "stdout",
     "output_type": "stream",
     "text": [
      "['I', ' ', 'h', 'a', 'v', 'e', ' ', 'a', ' ', 'm', 'i', 'n', 'd', ' ', 't', 'o', ' ', 's', 't', 'r', 'i', 'k', 'e', ' ', 't', 'h', 'e', 'e', ' ', 'e', 'r', 'e', ' ', 't', 'h', 'o', 'u', ' ', 's', 'p', 'e', 'a', 'k', '’', 's', 't', ' ', 'Y', 'e', 't', ' ', 'i', 'f', ' ', 't', 'h', 'o', 'u', ' ', 's', 'a', 'y', ' ', 'A', 'n', 't', 'o', 'n', 'y', ' ', 'l', 'i', 'v', 'e', 's', ',', ' ', 'i', 's', ' ', 'w', 'e', 'l', 'l', ',', ' ', 'O', 'r', ' ', 'f', 'r', 'i', 'e', 'n', 'd', 's', ' ', 'w', 'i', 't']\n",
      "80\n"
     ]
    }
   ],
   "source": [
    "# One-hot encode entire dataset\n",
    "\n",
    "from sklearn.preprocessing import LabelEncoder\n",
    "\n",
    "dataset = list((original_docs + \" \" + modern_docs).replace(\".\",\"\").replace(\"\\n\", \" \"))\n",
    "print(dataset[:100])\n",
    "\n",
    "enc = LabelEncoder()\n",
    "enc.fit(dataset)\n",
    "V = len(enc.classes_) #size of vocabulary\n",
    "print(V)"
   ]
  },
  {
   "cell_type": "code",
   "execution_count": 130,
   "metadata": {
    "collapsed": false
   },
   "outputs": [
    {
     "name": "stderr",
     "output_type": "stream",
     "text": [
      "/Users/jinpark/anaconda/lib/python3.5/site-packages/numpy/core/numeric.py:301: FutureWarning: in the future, full(200, -1) will return an array of dtype('int64')\n",
      "  format(shape, fill_value, array(fill_value).dtype), FutureWarning)\n"
     ]
    }
   ],
   "source": [
    "import numpy as np\n",
    "\n",
    "def matrify_sentences(sentences, encoder, max_length=200):\n",
    "    X = []\n",
    "    for sentence in sentences:\n",
    "        letters = list(sentence)\n",
    "        try:\n",
    "            letters = letters[:max_length]\n",
    "        except:\n",
    "            pass\n",
    "        letters_idx = np.array(encoder.transform(letters))\n",
    "        \n",
    "        arr = np.full(max_length, -1)\n",
    "        arr[:len(letters)] = letters_idx\n",
    "        X.append(arr)\n",
    "    \n",
    "    return np.array(X)\n",
    "\n",
    "\n",
    "original_sentences = original_docs.replace('.',\"\").split('\\n')\n",
    "modern_sentences = modern_docs.replace('.',\"\").split('\\n')\n",
    "\n",
    "X_org = matrify_sentences(original_sentences, enc)\n",
    "X_mod = matrify_sentences(modern_sentences, enc)"
   ]
  },
  {
   "cell_type": "code",
   "execution_count": 9,
   "metadata": {
    "collapsed": false
   },
   "outputs": [],
   "source": [
    "import tensorflow as tf\n",
    "\n",
    "tf.reset_default_graph()\n",
    "\n",
    "learning_rate = 0.01\n",
    "beta1 = 0.9\n",
    "max_length = 20\n",
    "\n",
    "x_input = tf.placeholder(tf.int32, [None, max_length])\n",
    "#embedding = tf.expand_dims(x_input, axis=2)\n",
    "embedding = tf.one_hot(x_input, V)\n",
    "\n",
    "encoder_output = lstm_encoder(embedding, lstm_units=V)\n",
    "decoder_output = lstm_decoder(embedding, encoder_output, lstm_units=V)\n",
    "\n",
    "loss = tf.reduce_mean(tf.square(decoder_output - embedding))\n",
    "optimizer = tf.train.AdamOptimizer(learning_rate=learning_rate, beta1=beta1).minimize(loss)"
   ]
  },
  {
   "cell_type": "code",
   "execution_count": 39,
   "metadata": {
    "collapsed": false
   },
   "outputs": [
    {
     "name": "stdout",
     "output_type": "stream",
     "text": [
      "INFO:tensorflow:Restoring parameters from ../models/lstm_ae.ckpt-47000\n",
      "Loss: 0.00767822191119194\n",
      "Loss: 0.00681416317820549\n",
      "Loss: 0.006161660887300968\n",
      "Loss: 0.005839089397341013\n",
      "Loss: 0.005440966226160526\n"
     ]
    }
   ],
   "source": [
    "init = tf.global_variables_initializer()\n",
    "num_epochs = 20\n",
    "X = X_org[:,:max_length]\n",
    "batch_size = 100\n",
    "saved_model_path = '../models/lstm_ae/lstm_ae.ckpt'\n",
    "checkpoint_dir = '../models/lstm_ae/'\n",
    "\n",
    "saver = tf.train.Saver()\n",
    "losses = []\n",
    "step = 0\n",
    "with tf.Session() as sess:\n",
    "    try:\n",
    "        saver.restore(sess, tf.train.latest_checkpoint(checkpoint_dir))\n",
    "    except:\n",
    "        print('No model')\n",
    "        sess.run(init)\n",
    "        \n",
    "    # Train\n",
    "    \n",
    "    for i in range(num_epochs):\n",
    "        num_batches = int(X.shape[0] / batch_size)\n",
    "        for b in range(num_batches):\n",
    "            batch_x = X[b * batch_size:(b + 1) * batch_size]\n",
    "            sess.run(optimizer, feed_dict={x_input: batch_x})\n",
    "            \n",
    "            if i % 2 == 0 and b == 0:\n",
    "                loss_i = sess.run(loss, feed_dict={x_input: batch_x})\n",
    "                print(\"Loss: {0}\".format(loss_i))\n",
    "                losses.append(loss_i)\n",
    "\n",
    "                saver.save(sess, saved_model_path, global_step=step)\n",
    "            step += batch_size"
   ]
  },
  {
   "cell_type": "code",
   "execution_count": 136,
   "metadata": {
    "collapsed": false
   },
   "outputs": [
    {
     "name": "stdout",
     "output_type": "stream",
     "text": [
      "INFO:tensorflow:Restoring parameters from ../models/lstm_ae_wa/lstm_ae_wa.ckpt-0\n",
      "['What will you do?', 'It was some fiend', 'Where’s the king?', 'Here, sir, as fooli', 'He that plays the k']\n",
      "['dddddddnnnnnnnnnnnn', ',,,,,,,,nnnnnnnnnnn', 'rrVVVVVVVVVViiiiiii', '’’’’’’’’\\xa0\\xa0\\xa0iiiiiiii', 'RRRRRbbbbbbbbbbbbdd']\n"
     ]
    },
    {
     "name": "stderr",
     "output_type": "stream",
     "text": [
      "/Users/jinpark/anaconda/lib/python3.5/site-packages/numpy/core/numeric.py:301: FutureWarning: in the future, full(5, -1) will return an array of dtype('int64')\n",
      "  format(shape, fill_value, array(fill_value).dtype), FutureWarning)\n"
     ]
    }
   ],
   "source": [
    "# test AE\n",
    "import numpy as np\n",
    "\n",
    "\n",
    "\n",
    "samples = X[np.random.choice(X.shape[0], size=5)]\n",
    "\n",
    "def textify_samples(x):\n",
    "    x[:,-1] = np.full(x.shape[0], -1)\n",
    "    eos_idx = np.argmin(x, axis=1)\n",
    "    x = [x[i,:eos_idx[i]] for i in range(x.shape[0])]\n",
    "\n",
    "    x_text = [enc.inverse_transform(x[i].astype(int)) for i in range(len(x))]\n",
    "    x_text = [''.join(list(text)) for text in x_text]\n",
    "    return x_text\n",
    "\n",
    "with tf.Session() as sess:\n",
    "    saver.restore(sess, tf.train.latest_checkpoint(checkpoint_dir))\n",
    "    x_generated = sess.run(decoder_output, feed_dict={x_input: samples})\n",
    "    x_generated = np.argmax(x_generated, axis=2)\n",
    "    \n",
    "    print(textify_samples(samples))\n",
    "    print(textify_samples(x_generated))\n",
    "#sess.run(decoder_output, feed"
   ]
  },
  {
   "cell_type": "markdown",
   "metadata": {},
   "source": [
    "# LSTM Autoencoder with adversarial training"
   ]
  },
  {
   "cell_type": "code",
   "execution_count": 112,
   "metadata": {
    "collapsed": true
   },
   "outputs": [],
   "source": [
    "def leaky_relu(x, alpha=0.01):\n",
    "    \"\"\"Compute the leaky ReLU activation function.\n",
    "    \n",
    "    Inputs:\n",
    "    - x: TensorFlow Tensor with arbitrary shape\n",
    "    - alpha: leak parameter for leaky ReLU\n",
    "    \n",
    "    Returns:\n",
    "    TensorFlow Tensor with the same shape as x\n",
    "    \"\"\"\n",
    "    # TODO: implement leaky ReLU\n",
    "    out = tf.maximum(tf.cast(0.0, dtype='float64'), tf.cast(x, dtype='float64'))\n",
    "    out1 = tf.minimum(tf.cast(0.0, dtype='float64'), tf.cast(alpha * x, dtype='float64'))\n",
    "    return tf.cast(out + out1, dtype='float32')\n",
    "\n",
    "def discriminator(x, reuse=False):\n",
    "    \"\"\"Compute discriminator score for a batch of input images.\n",
    "    \n",
    "    Inputs:\n",
    "    - x: TensorFlow Tensor of flattened input images, shape [batch_size, 784]\n",
    "    \n",
    "    Returns:\n",
    "    TensorFlow Tensor with shape [batch_size, 1], containing the score \n",
    "    for an image being real for each input image.\n",
    "    \"\"\"\n",
    "    if reuse:\n",
    "        tf.get_variable_scope().reuse_variables()\n",
    "    with tf.variable_scope(\"discriminator\"):\n",
    "        # TODO: implement architecture\n",
    "        x = tf.layers.dense(x, 10)\n",
    "        x = leaky_relu(x)\n",
    "        x = tf.layers.dense(x, 10)\n",
    "        x = leaky_relu(x)\n",
    "        x = tf.layers.dense(x, 1)\n",
    "        logits = x\n",
    "        return logits\n",
    "    \n",
    "def lstm_discriminator(x, lstm_units=2, reuse=False):\n",
    "    if reuse:\n",
    "        tf.get_variable_scope().reuse_variables()\n",
    "    with tf.variable_scope('discriminator'):\n",
    "        initializer = tf.contrib.layers.xavier_initializer()\n",
    "        lstm_fw = tf.nn.rnn_cell.LSTMCell(lstm_units, initializer=initializer)\n",
    "\n",
    "        outputs, state = tf.nn.dynamic_rnn(lstm_fw, x, dtype=tf.float32)\n",
    "        logits = tf.layers.dense(outputs, 1)\n",
    "        return logits\n",
    "    \n",
    "def gan_loss(logits_real, logits_fake):\n",
    "    \"\"\"Compute the GAN loss.\n",
    "    \n",
    "    Inputs:\n",
    "    - logits_real: Tensor, shape [batch_size, 1], output of discriminator\n",
    "        Log probability that the image is real for each real image\n",
    "    - logits_fake: Tensor, shape[batch_size, 1], output of discriminator\n",
    "        Log probability that the image is real for each fake image\n",
    "    \n",
    "    Returns:\n",
    "    - D_loss: discriminator loss scalar\n",
    "    - G_loss: generator loss scalar\n",
    "    \"\"\"\n",
    "    # TODO: compute D_loss and G_loss\n",
    "    labels_real = tf.ones_like(logits_real)\n",
    "    labels_fake = tf.zeros_like(logits_fake)\n",
    "    logits_fake_inv = -logits_fake\n",
    "    \n",
    "    D_loss = tf.reduce_mean(tf.nn.sigmoid_cross_entropy_with_logits(labels=labels_real, logits=logits_real) +\n",
    "                            tf.nn.sigmoid_cross_entropy_with_logits(labels=labels_fake, logits=logits_fake))\n",
    "    \n",
    "    G_loss = tf.reduce_mean(tf.nn.sigmoid_cross_entropy_with_logits(labels=labels_real, logits=logits_fake))\n",
    "\n",
    "    return D_loss, G_loss\n",
    "\n",
    "def get_solvers(learning_rate=1e-3, beta1=0.5):\n",
    "    \"\"\"Create solvers for GAN training.\n",
    "    \n",
    "    Inputs:\n",
    "    - learning_rate: learning rate to use for both solvers\n",
    "    - beta1: beta1 parameter for both solvers (first moment decay)\n",
    "    \n",
    "    Returns:\n",
    "    - D_solver: instance of tf.train.AdamOptimizer with correct learning_rate and beta1\n",
    "    - G_solver: instance of tf.train.AdamOptimizer with correct learning_rate and beta1\n",
    "    \"\"\"\n",
    "    D_solver = tf.train.AdamOptimizer(learning_rate=learning_rate, beta1=beta1)\n",
    "    G_solver = tf.train.AdamOptimizer(learning_rate=learning_rate, beta1=beta1)\n",
    "    return D_solver, G_solver"
   ]
  },
  {
   "cell_type": "code",
   "execution_count": 125,
   "metadata": {
    "collapsed": false
   },
   "outputs": [],
   "source": [
    "import tensorflow as tf\n",
    "\n",
    "tf.reset_default_graph()\n",
    "\n",
    "learning_rate = 0.01\n",
    "beta1 = 0.9\n",
    "max_length = 20\n",
    "\n",
    "x_input = tf.placeholder(tf.int32, [None, None])\n",
    "#embedding = tf.expand_dims(x_input, axis=2)\n",
    "embedding = tf.one_hot(x_input, V)\n",
    "\n",
    "encoder_output = lstm_encoder(embedding, lstm_units=V)\n",
    "decoder_output = lstm_decoder(embedding, encoder_output, lstm_units=V)\n",
    "\n",
    "with tf.variable_scope(\"\") as scope:\n",
    "    logits_real = lstm_discriminator(embedding)\n",
    "    logits_fake = lstm_discriminator(decoder_output, reuse=True) # might need to predict instead (argmax)\n",
    "\n",
    "D_solver, G_solver = get_solvers()\n",
    "D_loss, G_loss = gan_loss(logits_real, logits_fake)\n",
    "\n",
    "D_train_step = D_solver.minimize(D_loss)\n",
    "G_train_step = G_solver.minimize(G_loss)"
   ]
  },
  {
   "cell_type": "code",
   "execution_count": 147,
   "metadata": {
    "collapsed": false
   },
   "outputs": [
    {
     "name": "stdout",
     "output_type": "stream",
     "text": [
      "D_loss: 1.387786626815796, G_loss: 0.6922908425331116\n",
      "0\n",
      "['I ', 'Ye', 'Ma', 'We', 'An', 'Th', 'Ca', 'Ma', 'Bu', 'Fi', 'Pr', 'He', 'Fr', 'I ', 'He', 'Fo', 'Fo', 'I ', 'Ma', 'Th', 'Go', 'Wh', 'He', 'I’', 'Th', 'Sa', 'Th', 'He', 'Ro', 'Na', 'Wh', 'I ', 'Go', 'Th', 'So', 'Me', 'Ca', 'Th', 'Ca', 'He', 'I ', 'Th', 'Co', 'Th', 'Gi', 'I ', 'Is', 'Th', 'Do', 'Sh', 'Go', 'I ', 'He', 'Ta', 'To', 'He', 'Oh', 'Ge', 'Th', 'Li', 'Go', 'In', 'Ma', 'I ', 'Le', 'O ', 'Ti', 'Bi', 'Le', 'Br', 'Le', 'Lo', 'Oh', 'I ', 'Pr', 'No', 'Wr', 'Ve', 'Be', 'Hu', 'Yo', 'Mo', 'Wh', 'Ta', 'Th', 'We', 'At', 'At', 'Be', 'Th', 'Wh', 'Yo', 'An', 'Th', 'Th', 'Kn', 'Le', 'I ', 'Th', 'We']\n",
      "['ZZ', 'èè', 'cc', 'tt', '––', 'rr', 'OO', 'ZT', 'è1', '??', 'ZW', 'Mt', 'èè', 'VZ', 'Mt', 'bb', 'bb', 'YY', 'cc', 'OO', 'oo', 'OO', 'j–', '\\xa0\\xa0', \"''\", 'LL', 'OO', 'Mt', '\\u2003c', 'LL', 'OO', 'ZZ', 'oo', 'OO', 'tt', 'tt', 'bO', \"''\", 'bO', 'MM', '–:', 'OO', 'tt', \"''\", 'Vp', 'ZZ', 'RZ', 'OO', 'KK', 'bb', 'DD', '\\xa0\\xa0', 'MM', 'Zo', 'jj', 'Mt', 'lZ', 'èè', 'OO', 'xx', 'oo', 'UU', 'aa', 'YY', 'Mx', 'Pj', '?W', 'çç', 'èè', ';;', 'Mx', 'bb', 'YZ', 'VZ', 'bb', 'gg', 'IU', 'CC', '\\xa0t', 'lU', 'jh', \"t'\", 'OO', 'Zo', \"''\", 'tt', 'ZZ', 'ZZ', '\\xa0t', 'OO', '’L', 'jh', '––', 'LL', 'OO', 'oo', 'èè', 'çç', 'OO', 'tt']\n"
     ]
    },
    {
     "name": "stderr",
     "output_type": "stream",
     "text": [
      "/Users/jinpark/anaconda/lib/python3.5/site-packages/numpy/core/numeric.py:301: FutureWarning: in the future, full(100, -1) will return an array of dtype('int64')\n",
      "  format(shape, fill_value, array(fill_value).dtype), FutureWarning)\n"
     ]
    },
    {
     "name": "stdout",
     "output_type": "stream",
     "text": [
      "D_loss: 0.7650749683380127, G_loss: 0.801673948764801\n",
      "4\n",
      "['I ', 'Ye', 'Ma', 'We', 'An', 'Th', 'Ca', 'Ma', 'Bu', 'Fi', 'Pr', 'He', 'Fr', 'I ', 'He', 'Fo', 'Fo', 'I ', 'Ma', 'Th', 'Go', 'Wh', 'He', 'I’', 'Th', 'Sa', 'Th', 'He', 'Ro', 'Na', 'Wh', 'I ', 'Go', 'Th', 'So', 'Me', 'Ca', 'Th', 'Ca', 'He', 'I ', 'Th', 'Co', 'Th', 'Gi', 'I ', 'Is', 'Th', 'Do', 'Sh', 'Go', 'I ', 'He', 'Ta', 'To', 'He', 'Oh', 'Ge', 'Th', 'Li', 'Go', 'In', 'Ma', 'I ', 'Le', 'O ', 'Ti', 'Bi', 'Le', 'Br', 'Le', 'Lo', 'Oh', 'I ', 'Pr', 'No', 'Wr', 'Ve', 'Be', 'Hu', 'Yo', 'Mo', 'Wh', 'Ta', 'Th', 'We', 'At', 'At', 'Be', 'Th', 'Wh', 'Yo', 'An', 'Th', 'Th', 'Kn', 'Le', 'I ', 'Th', 'We']\n",
      "['VV', 'Sx', 'ææ', 'Mt', 'Rl', 'rr', 'OO', 'TT', 'OO', '\\xa0x', ';m', 'Mæ', 'Sb', 'YV', 'Mæ', 'bb', 'bb', 'YY', 'ææ', 'OO', 'oo', 'OO', '““', 'N\\xa0', 'oo', 'L,', 'OO', 'Mæ', 'DD', 'ww', 'OO', 'VV', 'oo', 'OO', 'bK', '“Æ', 'bb', 'oo', 'bb', 'MM', 'HH', 'OO', '  ', 'oo', 'V5', 'VV', 'RR', 'OO', \"K'\", 'bb', 'DD', '\\xa0\\xa0', 'MM', 'nn', 'R(', 'Mæ', 'lY', '…5', 'OO', 'sx', 'oo', 'TT', 'TT', 'YY', 'Mx', 'PP', 'WW', ';;', 'H5', ';;', 'Mx', 'bb', 'YY', 'YV', 'bb', '((', 'IE', 'Æx', '\\xa0\\xa0', 'nn', ',-', \"''\", 'OO', 'nn', 'oo', 'ït', 'PP', 'PP', '\\xa0\\xa0', 'OO', 'LL', ',-', 'Rl', ',,', 'OO', 'ob', 'H5', 'çç', 'OO', 'Mt']\n",
      "D_loss: 0.7443634271621704, G_loss: 0.7777029275894165\n",
      "8\n",
      "['I ', 'Ye', 'Ma', 'We', 'An', 'Th', 'Ca', 'Ma', 'Bu', 'Fi', 'Pr', 'He', 'Fr', 'I ', 'He', 'Fo', 'Fo', 'I ', 'Ma', 'Th', 'Go', 'Wh', 'He', 'I’', 'Th', 'Sa', 'Th', 'He', 'Ro', 'Na', 'Wh', 'I ', 'Go', 'Th', 'So', 'Me', 'Ca', 'Th', 'Ca', 'He', 'I ', 'Th', 'Co', 'Th', 'Gi', 'I ', 'Is', 'Th', 'Do', 'Sh', 'Go', 'I ', 'He', 'Ta', 'To', 'He', 'Oh', 'Ge', 'Th', 'Li', 'Go', 'In', 'Ma', 'I ', 'Le', 'O ', 'Ti', 'Bi', 'Le', 'Br', 'Le', 'Lo', 'Oh', 'I ', 'Pr', 'No', 'Wr', 'Ve', 'Be', 'Hu', 'Yo', 'Mo', 'Wh', 'Ta', 'Th', 'We', 'At', 'At', 'Be', 'Th', 'Wh', 'Yo', 'An', 'Th', 'Th', 'Kn', 'Le', 'I ', 'Th', 'We']\n",
      "['VV', 'xx', 'ææ', 'Mx', 'Rl', 'rr', 'xx', 'T(', ',x', 'xx', ';(', 'ææ', 'bx', 'ææ', 'ææ', 'bb', 'bb', '\\xa0(', 'ææ', 'Ox', \"'x\", 'OO', '“x', '\\xa0\\xa0', 'o(', 'Lx', 'Ox', 'ææ', 'Dx', 'wx', 'OO', 'VV', \"'x\", 'Ox', 'bt', '\\xa0x', 'QQ', 'o(', 'QQ', 'MM', 'æ(', 'Ox', 'vx', 'o(', 'p5', 'VV', 'RR', 'Ox', 'Kx', 'bb', 'A(', '\\xa0\\xa0', 'MM', 'n(', '((', 'ææ', 'l(', '\\xa0x', 'Ox', 'xx', \"'x\", 'T(', 'T(', '\\xa0(', 'xx', 'P\\xa0', '…x', ';;', 'xx', 'E;', 'xx', 'bb', 'Y(', 'ææ', 'b(', '((', 'I(', 'xx', '\\xa0x', 'nn', ',x', \"'x\", 'OO', 'n(', 'o(', 'ït', 'Pæ', 'Pæ', '\\xa0x', 'Ox', '’x', ',x', 'Rl', ',x', 'Ox', 'o(', 'xx', 'Vç', 'Ox', 'Mx']\n",
      "D_loss: 0.7583627700805664, G_loss: 0.763138473033905\n",
      "12\n",
      "['I ', 'Ye', 'Ma', 'We', 'An', 'Th', 'Ca', 'Ma', 'Bu', 'Fi', 'Pr', 'He', 'Fr', 'I ', 'He', 'Fo', 'Fo', 'I ', 'Ma', 'Th', 'Go', 'Wh', 'He', 'I’', 'Th', 'Sa', 'Th', 'He', 'Ro', 'Na', 'Wh', 'I ', 'Go', 'Th', 'So', 'Me', 'Ca', 'Th', 'Ca', 'He', 'I ', 'Th', 'Co', 'Th', 'Gi', 'I ', 'Is', 'Th', 'Do', 'Sh', 'Go', 'I ', 'He', 'Ta', 'To', 'He', 'Oh', 'Ge', 'Th', 'Li', 'Go', 'In', 'Ma', 'I ', 'Le', 'O ', 'Ti', 'Bi', 'Le', 'Br', 'Le', 'Lo', 'Oh', 'I ', 'Pr', 'No', 'Wr', 'Ve', 'Be', 'Hu', 'Yo', 'Mo', 'Wh', 'Ta', 'Th', 'We', 'At', 'At', 'Be', 'Th', 'Wh', 'Yo', 'An', 'Th', 'Th', 'Kn', 'Le', 'I ', 'Th', 'We']\n",
      "['\\xa0x', 'xx', 'æx', 'xx', 'lx', 'rx', 'xx', 'Tx', 'xx', 'xx', 'xx', 'æx', 'xx', 'æx', 'æx', 'bx', 'bx', '\\xa0x', 'æx', 'xx', 'xx', 'Ox', 'xx', '\\xa0x', 'xx', 'xx', 'xx', 'æx', 'xx', 'xx', 'Ox', '\\xa0x', 'xx', 'xx', 'bx', 'xx', 'bx', 'xx', 'bx', 'Mx', 'æx', 'xx', 'xx', 'xx', 'px', '\\xa0x', 'px', 'xx', 'xx', 'bx', 'Ax', '\\xa0x', 'Mx', 'nx', 'xx', 'æx', 'lx', 'xx', 'xx', 'xx', 'xx', 'Tx', 'xx', '\\xa0x', 'xx', '\\xa0x', 'xx', ';x', 'xx', 'Ex', 'xx', 'bx', 'xx', 'æx', 'bx', '(x', 'xx', 'xx', 'xx', 'nx', 'xx', 'xx', 'Ox', 'nx', 'xx', 'ïx', 'xx', 'xx', 'xx', 'xx', 'xx', 'xx', 'lx', 'xx', 'xx', 'xx', 'xx', 'çx', 'xx', 'xx']\n",
      "D_loss: 0.761307418346405, G_loss: 0.7593516707420349\n",
      "16\n",
      "['I ', 'Ye', 'Ma', 'We', 'An', 'Th', 'Ca', 'Ma', 'Bu', 'Fi', 'Pr', 'He', 'Fr', 'I ', 'He', 'Fo', 'Fo', 'I ', 'Ma', 'Th', 'Go', 'Wh', 'He', 'I’', 'Th', 'Sa', 'Th', 'He', 'Ro', 'Na', 'Wh', 'I ', 'Go', 'Th', 'So', 'Me', 'Ca', 'Th', 'Ca', 'He', 'I ', 'Th', 'Co', 'Th', 'Gi', 'I ', 'Is', 'Th', 'Do', 'Sh', 'Go', 'I ', 'He', 'Ta', 'To', 'He', 'Oh', 'Ge', 'Th', 'Li', 'Go', 'In', 'Ma', 'I ', 'Le', 'O ', 'Ti', 'Bi', 'Le', 'Br', 'Le', 'Lo', 'Oh', 'I ', 'Pr', 'No', 'Wr', 'Ve', 'Be', 'Hu', 'Yo', 'Mo', 'Wh', 'Ta', 'Th', 'We', 'At', 'At', 'Be', 'Th', 'Wh', 'Yo', 'An', 'Th', 'Th', 'Kn', 'Le', 'I ', 'Th', 'We']\n",
      "['xx', 'xx', 'æx', 'xx', 'lx', 'rx', 'xx', 'Tx', 'xx', 'xx', 'xx', 'æx', 'xx', 'æx', 'æx', 'bx', 'bx', 'xx', 'æx', 'xx', 'xx', 'xx', 'xx', '\\xa0x', 'xx', 'xx', 'xx', 'æx', 'xx', 'xx', 'xx', 'xx', 'xx', 'xx', 'xx', 'xx', 'bx', 'xx', 'bx', 'xx', 'æx', 'xx', 'xx', 'xx', 'xx', 'xx', 'px', 'xx', 'xx', 'bx', 'Ax', '\\xa0x', 'xx', 'nx', 'xx', 'æx', 'lx', 'xx', 'xx', 'xx', 'xx', 'Tx', 'xx', 'xx', 'xx', '\\xa0x', 'xx', ';x', 'xx', 'xx', 'xx', 'bx', 'xx', 'æx', 'bx', 'xx', 'xx', 'xx', 'xx', 'nx', 'xx', 'xx', 'xx', 'nx', 'xx', 'xx', 'xx', 'xx', 'xx', 'xx', 'xx', 'xx', 'lx', 'xx', 'xx', 'xx', 'xx', 'çx', 'xx', 'xx']\n",
      "D_loss: 0.7606702446937561, G_loss: 0.7571764588356018\n",
      "20\n",
      "['I ', 'Ye', 'Ma', 'We', 'An', 'Th', 'Ca', 'Ma', 'Bu', 'Fi', 'Pr', 'He', 'Fr', 'I ', 'He', 'Fo', 'Fo', 'I ', 'Ma', 'Th', 'Go', 'Wh', 'He', 'I’', 'Th', 'Sa', 'Th', 'He', 'Ro', 'Na', 'Wh', 'I ', 'Go', 'Th', 'So', 'Me', 'Ca', 'Th', 'Ca', 'He', 'I ', 'Th', 'Co', 'Th', 'Gi', 'I ', 'Is', 'Th', 'Do', 'Sh', 'Go', 'I ', 'He', 'Ta', 'To', 'He', 'Oh', 'Ge', 'Th', 'Li', 'Go', 'In', 'Ma', 'I ', 'Le', 'O ', 'Ti', 'Bi', 'Le', 'Br', 'Le', 'Lo', 'Oh', 'I ', 'Pr', 'No', 'Wr', 'Ve', 'Be', 'Hu', 'Yo', 'Mo', 'Wh', 'Ta', 'Th', 'We', 'At', 'At', 'Be', 'Th', 'Wh', 'Yo', 'An', 'Th', 'Th', 'Kn', 'Le', 'I ', 'Th', 'We']\n",
      "['px', 'xx', 'æx', 'xx', 'lx', 'rx', 'xx', 'Tx', 'px', 'xx', 'xx', '\\xa0x', 'xx', 'æx', '\\xa0x', 'bx', 'bx', '\\xa0x', 'æx', 'xx', 'xx', 'xx', 'xx', '\\xa0x', 'xx', 'xx', 'xx', '\\xa0x', 'xx', 'xx', 'xx', 'px', 'xx', 'xx', 'xx', 'xx', 'bx', 'xx', 'bx', 'Mx', 'æp', 'xx', ' x', 'xx', 'px', 'px', 'px', 'xx', 'xx', 'bx', 'Ax', '\\xa0p', 'Mx', 'nx', 'xx', '\\xa0x', 'lx', 'xx', 'xx', 'xx', 'xx', 'Tx', 'xx', '\\xa0x', 'xx', '\\xa0x', 'xx', ';x', 'xx', ';x', 'xx', 'bx', 'px', 'æx', 'bx', 'xx', 'xx', 'xx', 'px', 'pp', 'px', 'xx', 'xx', 'nx', 'xx', 'tx', 'xx', 'xx', 'px', 'xx', 'xx', 'px', 'lx', 'xx', 'xx', 'xx', 'xx', 'çx', 'xx', 'xx']\n",
      "D_loss: 0.7579908967018127, G_loss: 0.7568719387054443\n",
      "24\n",
      "['I ', 'Ye', 'Ma', 'We', 'An', 'Th', 'Ca', 'Ma', 'Bu', 'Fi', 'Pr', 'He', 'Fr', 'I ', 'He', 'Fo', 'Fo', 'I ', 'Ma', 'Th', 'Go', 'Wh', 'He', 'I’', 'Th', 'Sa', 'Th', 'He', 'Ro', 'Na', 'Wh', 'I ', 'Go', 'Th', 'So', 'Me', 'Ca', 'Th', 'Ca', 'He', 'I ', 'Th', 'Co', 'Th', 'Gi', 'I ', 'Is', 'Th', 'Do', 'Sh', 'Go', 'I ', 'He', 'Ta', 'To', 'He', 'Oh', 'Ge', 'Th', 'Li', 'Go', 'In', 'Ma', 'I ', 'Le', 'O ', 'Ti', 'Bi', 'Le', 'Br', 'Le', 'Lo', 'Oh', 'I ', 'Pr', 'No', 'Wr', 'Ve', 'Be', 'Hu', 'Yo', 'Mo', 'Wh', 'Ta', 'Th', 'We', 'At', 'At', 'Be', 'Th', 'Wh', 'Yo', 'An', 'Th', 'Th', 'Kn', 'Le', 'I ', 'Th', 'We']\n",
      "['pp', 'xx', 'æp', 'xx', '“x', 'pp', 'xx', 'Tx', 'pp', 'xx', 'xx', 'pp', 'xx', 'æp', 'pp', 'bp', 'bp', '\\xa0x', 'æp', 'xx', 'xx', 'xx', 'xx', '\\xa0p', 'xx', 'xx', 'xx', 'pp', 'pp', 'xx', 'xx', 'pp', 'xx', 'xx', 'xx', 'xx', ' x', 'xx', ' x', 'pp', 'æp', 'xx', ' x', 'xx', 'pp', 'pp', 'pp', 'xx', 'pp', 'bp', 'Ap', 'pp', 'pp', 'nx', 'pp', 'pp', 'pp', 'xx', 'xx', 'xx', 'xx', 'pp', 'xx', '\\xa0x', 'xx', '\\xa0x', 'xx', ';p', 'xx', 'pp', 'xx', 'bx', 'pp', 'æp', 'bx', 'pp', 'xx', 'xx', 'pp', 'pp', 'pp', 'pp', 'xx', 'nx', 'xx', 'tp', 'xx', 'xx', 'pp', 'xx', 'xx', 'pp', '“x', 'xx', 'xx', 'xx', 'xx', 'Jp', 'xx', 'xx']\n",
      "D_loss: 0.7627776861190796, G_loss: 0.7494302988052368\n",
      "28\n",
      "['I ', 'Ye', 'Ma', 'We', 'An', 'Th', 'Ca', 'Ma', 'Bu', 'Fi', 'Pr', 'He', 'Fr', 'I ', 'He', 'Fo', 'Fo', 'I ', 'Ma', 'Th', 'Go', 'Wh', 'He', 'I’', 'Th', 'Sa', 'Th', 'He', 'Ro', 'Na', 'Wh', 'I ', 'Go', 'Th', 'So', 'Me', 'Ca', 'Th', 'Ca', 'He', 'I ', 'Th', 'Co', 'Th', 'Gi', 'I ', 'Is', 'Th', 'Do', 'Sh', 'Go', 'I ', 'He', 'Ta', 'To', 'He', 'Oh', 'Ge', 'Th', 'Li', 'Go', 'In', 'Ma', 'I ', 'Le', 'O ', 'Ti', 'Bi', 'Le', 'Br', 'Le', 'Lo', 'Oh', 'I ', 'Pr', 'No', 'Wr', 'Ve', 'Be', 'Hu', 'Yo', 'Mo', 'Wh', 'Ta', 'Th', 'We', 'At', 'At', 'Be', 'Th', 'Wh', 'Yo', 'An', 'Th', 'Th', 'Kn', 'Le', 'I ', 'Th', 'We']\n",
      "['pp', 'xp', 'æp', 'xp', '“p', 'pp', 'xx', 'Tp', 'pp', 'xx', 'pp', 'pp', 'xp', 'pp', 'pp', 'bp', 'bp', 'pp', 'æp', 'xp', 'pp', 'pp', 'pp', '\\xa0p', 'xp', 'xp', 'xp', 'pp', 'pp', 'xp', 'pp', 'pp', 'pp', 'xp', 'bp', 'xp', ' p', 'xp', ' p', 'pp', 'pp', 'xp', ' p', 'xp', 'pp', 'pp', 'pp', 'xp', 'pp', 'bp', 'pp', 'pp', 'pp', 'np', 'pp', 'pp', 'pp', 'xp', 'xp', 'xx', 'pp', 'pp', 'xp', 'pp', 'xx', '\\xa0p', 'xp', 'pp', 'xp', 'pp', 'xx', 'bp', 'pp', 'pp', 'bp', 'pp', 'pp', 'xp', 'pp', 'pp', 'pp', 'pp', 'pp', 'np', 'xp', 'pp', 'pp', 'pp', 'pp', 'xp', 'xp', 'pp', '“p', 'xp', 'xp', 'pp', 'xp', 'pp', 'xp', 'xp']\n",
      "D_loss: 0.7516486644744873, G_loss: 0.7597109079360962\n",
      "32\n",
      "['I ', 'Ye', 'Ma', 'We', 'An', 'Th', 'Ca', 'Ma', 'Bu', 'Fi', 'Pr', 'He', 'Fr', 'I ', 'He', 'Fo', 'Fo', 'I ', 'Ma', 'Th', 'Go', 'Wh', 'He', 'I’', 'Th', 'Sa', 'Th', 'He', 'Ro', 'Na', 'Wh', 'I ', 'Go', 'Th', 'So', 'Me', 'Ca', 'Th', 'Ca', 'He', 'I ', 'Th', 'Co', 'Th', 'Gi', 'I ', 'Is', 'Th', 'Do', 'Sh', 'Go', 'I ', 'He', 'Ta', 'To', 'He', 'Oh', 'Ge', 'Th', 'Li', 'Go', 'In', 'Ma', 'I ', 'Le', 'O ', 'Ti', 'Bi', 'Le', 'Br', 'Le', 'Lo', 'Oh', 'I ', 'Pr', 'No', 'Wr', 'Ve', 'Be', 'Hu', 'Yo', 'Mo', 'Wh', 'Ta', 'Th', 'We', 'At', 'At', 'Be', 'Th', 'Wh', 'Yo', 'An', 'Th', 'Th', 'Kn', 'Le', 'I ', 'Th', 'We']\n",
      "['pp', 'pp', 'pp', 'pp', '“p', 'pp', 'xp', 'Tp', 'pp', 'xp', 'pp', 'pp', 'pp', 'pp', 'pp', 'pp', 'pp', 'pp', 'pp', 'xp', 'pp', 'pp', 'pp', '\\xa0p', 'pp', 'xp', 'xp', 'pp', 'pp', 'xp', 'pp', 'pp', 'pp', 'xp', 'pp', 'pp', ' p', 'pp', ' p', 'pp', 'pp', 'xp', ' p', 'pp', 'pp', 'pp', 'pp', 'xp', 'pp', 'pp', 'pp', 'pp', 'pp', 'np', 'pp', 'pp', 'pp', 'pp', 'xp', 'xp', 'pp', 'pp', 'pp', 'pp', 'xp', 'pp', 'pp', 'pp', 'xp', 'pp', 'xp', 'pp', 'pp', 'pp', 'pp', 'pp', 'pp', 'pp', 'pp', 'pp', 'pp', 'pp', 'pp', 'np', 'pp', 'pp', 'pp', 'pp', 'pp', 'xp', 'pp', 'pp', '“p', 'xp', 'pp', 'pp', 'xp', 'pp', 'xp', 'pp']\n",
      "D_loss: 0.7589147686958313, G_loss: 0.7512335181236267\n",
      "36\n",
      "['I ', 'Ye', 'Ma', 'We', 'An', 'Th', 'Ca', 'Ma', 'Bu', 'Fi', 'Pr', 'He', 'Fr', 'I ', 'He', 'Fo', 'Fo', 'I ', 'Ma', 'Th', 'Go', 'Wh', 'He', 'I’', 'Th', 'Sa', 'Th', 'He', 'Ro', 'Na', 'Wh', 'I ', 'Go', 'Th', 'So', 'Me', 'Ca', 'Th', 'Ca', 'He', 'I ', 'Th', 'Co', 'Th', 'Gi', 'I ', 'Is', 'Th', 'Do', 'Sh', 'Go', 'I ', 'He', 'Ta', 'To', 'He', 'Oh', 'Ge', 'Th', 'Li', 'Go', 'In', 'Ma', 'I ', 'Le', 'O ', 'Ti', 'Bi', 'Le', 'Br', 'Le', 'Lo', 'Oh', 'I ', 'Pr', 'No', 'Wr', 'Ve', 'Be', 'Hu', 'Yo', 'Mo', 'Wh', 'Ta', 'Th', 'We', 'At', 'At', 'Be', 'Th', 'Wh', 'Yo', 'An', 'Th', 'Th', 'Kn', 'Le', 'I ', 'Th', 'We']\n",
      "['pp', 'pp', 'pp', 'pp', '“p', 'pp', 'xp', 'pp', 'pp', 'xp', 'pp', 'pp', 'pp', 'pp', 'pp', 'pp', 'pp', 'pp', 'pp', 'pp', 'pp', 'pp', 'pp', 'pp', 'pp', 'pp', 'pp', 'pp', 'pp', 'pp', 'pp', 'pp', 'pp', 'pp', 'pp', 'pp', ' p', 'pp', ' p', 'pp', 'pp', 'pp', ' p', 'pp', 'pp', 'pp', 'pp', 'pp', 'pp', 'pp', 'pp', 'pp', 'pp', 'pp', 'pp', 'pp', 'pp', 'pp', 'pp', 'xp', 'pp', 'pp', 'pp', 'pp', 'xp', 'pp', 'pp', 'pp', 'pp', 'pp', 'xp', 'pp', 'pp', 'pp', 'pp', 'pp', 'pp', 'pp', 'pp', 'pp', 'pp', 'pp', 'pp', 'pp', 'pp', 'pp', 'pp', 'pp', 'pp', 'pp', 'pp', 'pp', '“p', 'pp', 'pp', 'pp', 'pp', 'pp', 'pp', 'pp']\n",
      "D_loss: 0.7625831365585327, G_loss: 0.7474901676177979\n",
      "40\n",
      "['I ', 'Ye', 'Ma', 'We', 'An', 'Th', 'Ca', 'Ma', 'Bu', 'Fi', 'Pr', 'He', 'Fr', 'I ', 'He', 'Fo', 'Fo', 'I ', 'Ma', 'Th', 'Go', 'Wh', 'He', 'I’', 'Th', 'Sa', 'Th', 'He', 'Ro', 'Na', 'Wh', 'I ', 'Go', 'Th', 'So', 'Me', 'Ca', 'Th', 'Ca', 'He', 'I ', 'Th', 'Co', 'Th', 'Gi', 'I ', 'Is', 'Th', 'Do', 'Sh', 'Go', 'I ', 'He', 'Ta', 'To', 'He', 'Oh', 'Ge', 'Th', 'Li', 'Go', 'In', 'Ma', 'I ', 'Le', 'O ', 'Ti', 'Bi', 'Le', 'Br', 'Le', 'Lo', 'Oh', 'I ', 'Pr', 'No', 'Wr', 'Ve', 'Be', 'Hu', 'Yo', 'Mo', 'Wh', 'Ta', 'Th', 'We', 'At', 'At', 'Be', 'Th', 'Wh', 'Yo', 'An', 'Th', 'Th', 'Kn', 'Le', 'I ', 'Th', 'We']\n",
      "['pp', 'pp', 'pp', 'pp', 'pp', 'pp', 'pp', 'pp', 'pp', 'pp', 'pp', 'pp', 'pp', 'pp', 'pp', 'pp', 'pp', 'pp', 'pp', 'pp', 'pp', 'pp', 'pp', 'pp', 'pp', 'pp', 'pp', 'pp', 'pp', 'pp', 'pp', 'pp', 'pp', 'pp', 'pp', 'pp', ' p', 'pp', ' p', 'pp', 'pp', 'pp', 'pp', 'pp', 'pp', 'pp', 'pp', 'pp', 'pp', 'pp', 'pp', 'pp', 'pp', 'pp', 'pp', 'pp', 'pp', 'pp', 'pp', 'pp', 'pp', 'pp', 'pp', 'pp', 'pp', 'pp', 'pp', 'pp', 'pp', 'pp', 'pp', 'pp', 'pp', 'pp', 'pp', 'pp', 'pp', 'pp', 'pp', 'pp', 'pp', 'pp', 'pp', 'pp', 'pp', 'pp', 'pp', 'pp', 'pp', 'pp', 'pp', 'pp', 'pp', 'pp', 'pp', 'pp', 'pp', 'pp', 'pp', 'pp']\n",
      "D_loss: 0.7581290602684021, G_loss: 0.751796543598175\n",
      "44\n",
      "['I ', 'Ye', 'Ma', 'We', 'An', 'Th', 'Ca', 'Ma', 'Bu', 'Fi', 'Pr', 'He', 'Fr', 'I ', 'He', 'Fo', 'Fo', 'I ', 'Ma', 'Th', 'Go', 'Wh', 'He', 'I’', 'Th', 'Sa', 'Th', 'He', 'Ro', 'Na', 'Wh', 'I ', 'Go', 'Th', 'So', 'Me', 'Ca', 'Th', 'Ca', 'He', 'I ', 'Th', 'Co', 'Th', 'Gi', 'I ', 'Is', 'Th', 'Do', 'Sh', 'Go', 'I ', 'He', 'Ta', 'To', 'He', 'Oh', 'Ge', 'Th', 'Li', 'Go', 'In', 'Ma', 'I ', 'Le', 'O ', 'Ti', 'Bi', 'Le', 'Br', 'Le', 'Lo', 'Oh', 'I ', 'Pr', 'No', 'Wr', 'Ve', 'Be', 'Hu', 'Yo', 'Mo', 'Wh', 'Ta', 'Th', 'We', 'At', 'At', 'Be', 'Th', 'Wh', 'Yo', 'An', 'Th', 'Th', 'Kn', 'Le', 'I ', 'Th', 'We']\n",
      "['pp', 'pp', 'pp', 'pp', 'pp', 'pp', 'pp', 'pp', 'pp', 'pp', 'pp', 'pp', 'pp', 'pp', 'pp', 'pp', 'pp', 'pp', 'pp', 'pp', 'pp', 'pp', 'pp', 'pp', 'pp', 'pp', 'pp', 'pp', 'pp', 'pp', 'pp', 'pp', 'pp', 'pp', 'pp', 'pp', ' p', 'pp', ' p', 'pp', 'pp', 'pp', 'pp', 'pp', 'pp', 'pp', 'pp', 'pp', 'pp', 'pp', 'pp', 'pp', 'pp', 'pp', 'pp', 'pp', 'pp', 'pp', 'pp', 'pp', 'pp', 'pp', 'pp', 'pp', 'pp', 'pp', 'pp', 'pp', 'pp', 'pp', 'pp', 'pp', 'pp', 'pp', 'pp', 'pp', 'pp', 'pp', 'pp', 'pp', 'pp', 'pp', 'pp', 'pp', 'pp', 'pp', 'pp', 'pp', 'pp', 'pp', 'pp', 'pp', 'pp', 'pp', 'pp', 'pp', 'pp', 'pp', 'pp', 'pp']\n",
      "D_loss: 0.7572110891342163, G_loss: 0.7529639005661011\n",
      "48\n",
      "['I ', 'Ye', 'Ma', 'We', 'An', 'Th', 'Ca', 'Ma', 'Bu', 'Fi', 'Pr', 'He', 'Fr', 'I ', 'He', 'Fo', 'Fo', 'I ', 'Ma', 'Th', 'Go', 'Wh', 'He', 'I’', 'Th', 'Sa', 'Th', 'He', 'Ro', 'Na', 'Wh', 'I ', 'Go', 'Th', 'So', 'Me', 'Ca', 'Th', 'Ca', 'He', 'I ', 'Th', 'Co', 'Th', 'Gi', 'I ', 'Is', 'Th', 'Do', 'Sh', 'Go', 'I ', 'He', 'Ta', 'To', 'He', 'Oh', 'Ge', 'Th', 'Li', 'Go', 'In', 'Ma', 'I ', 'Le', 'O ', 'Ti', 'Bi', 'Le', 'Br', 'Le', 'Lo', 'Oh', 'I ', 'Pr', 'No', 'Wr', 'Ve', 'Be', 'Hu', 'Yo', 'Mo', 'Wh', 'Ta', 'Th', 'We', 'At', 'At', 'Be', 'Th', 'Wh', 'Yo', 'An', 'Th', 'Th', 'Kn', 'Le', 'I ', 'Th', 'We']\n",
      "['pp', 'pp', 'pp', 'pp', 'Jp', 'pp', ' p', 'pp', 'pp', 'xp', 'pp', 'pp', 'pp', 'pp', 'pp', 'pp', 'pp', 'pp', 'pp', 'pp', 'pp', 'pp', 'pp', 'Jp', 'pp', 'xp', 'pp', 'pp', 'pp', 'pp', 'pp', 'pp', 'pp', 'pp', 'pp', 'pp', ' p', 'pp', ' p', 'pp', 'pp', 'pp', ' p', 'pp', 'pp', 'pp', 'pp', 'pp', 'pp', 'pp', 'pp', 'pp', 'pp', 'pp', 'pp', 'pp', 'pp', 'pp', 'pp', 'xp', 'pp', 'Jp', 'pp', 'pp', 'pp', 'pp', 'pp', 'pp', 'pp', 'pp', 'pp', 'pp', 'pp', 'pp', 'pp', 'pp', 'pp', 'pp', 'pp', 'pp', 'pp', 'pp', 'pp', 'pp', 'pp', 'pp', 'pp', 'pp', 'pp', 'pp', 'pp', 'pp', 'Jp', 'pp', 'pp', 'Jx', 'pp', 'pp', 'pp', 'pp']\n",
      "D_loss: 0.7551816701889038, G_loss: 0.7549121975898743\n",
      "52\n",
      "['I ', 'Ye', 'Ma', 'We', 'An', 'Th', 'Ca', 'Ma', 'Bu', 'Fi', 'Pr', 'He', 'Fr', 'I ', 'He', 'Fo', 'Fo', 'I ', 'Ma', 'Th', 'Go', 'Wh', 'He', 'I’', 'Th', 'Sa', 'Th', 'He', 'Ro', 'Na', 'Wh', 'I ', 'Go', 'Th', 'So', 'Me', 'Ca', 'Th', 'Ca', 'He', 'I ', 'Th', 'Co', 'Th', 'Gi', 'I ', 'Is', 'Th', 'Do', 'Sh', 'Go', 'I ', 'He', 'Ta', 'To', 'He', 'Oh', 'Ge', 'Th', 'Li', 'Go', 'In', 'Ma', 'I ', 'Le', 'O ', 'Ti', 'Bi', 'Le', 'Br', 'Le', 'Lo', 'Oh', 'I ', 'Pr', 'No', 'Wr', 'Ve', 'Be', 'Hu', 'Yo', 'Mo', 'Wh', 'Ta', 'Th', 'We', 'At', 'At', 'Be', 'Th', 'Wh', 'Yo', 'An', 'Th', 'Th', 'Kn', 'Le', 'I ', 'Th', 'We']\n",
      "['Jp', 'pp', 'pp', 'pp', 'Jp', 'pp', ' p', 'pp', 'pp', 'xp', 'pp', 'pp', 'pp', 'pp', 'pp', 'pp', 'pp', 'Jp', 'pp', 'pp', 'pp', 'pp', 'pp', 'Jæ', 'pp', 'xp', 'pp', 'pp', 'pp', 'fp', 'pp', 'Jp', 'pp', 'pp', 'pp', 'pp', ' p', 'pp', ' p', 'pp', 'pp', 'pp', ' p', 'pp', 'pp', 'Jp', 'pp', 'pp', 'pp', 'pp', 'pp', 'pp', 'pp', 'np', 'pp', 'pp', 'pp', 'pp', 'pp', 'xp', 'pp', 'Jp', 'pp', 'Jp', 'xp', 'pp', 'pp', 'pp', 'pp', 'pp', 'xp', 'pp', 'pp', 'pp', 'pp', 'pp', 'pp', 'pp', 'pp', 'pp', 'pp', 'pp', 'pp', 'np', 'pp', 'pp', 'pp', 'pp', 'pp', 'pp', 'pp', 'pp', 'Jp', 'xp', 'pp', 'Jx', 'pp', 'Jp', 'pp', 'pp']\n",
      "D_loss: 0.7556092143058777, G_loss: 0.754524827003479\n",
      "56\n",
      "['I ', 'Ye', 'Ma', 'We', 'An', 'Th', 'Ca', 'Ma', 'Bu', 'Fi', 'Pr', 'He', 'Fr', 'I ', 'He', 'Fo', 'Fo', 'I ', 'Ma', 'Th', 'Go', 'Wh', 'He', 'I’', 'Th', 'Sa', 'Th', 'He', 'Ro', 'Na', 'Wh', 'I ', 'Go', 'Th', 'So', 'Me', 'Ca', 'Th', 'Ca', 'He', 'I ', 'Th', 'Co', 'Th', 'Gi', 'I ', 'Is', 'Th', 'Do', 'Sh', 'Go', 'I ', 'He', 'Ta', 'To', 'He', 'Oh', 'Ge', 'Th', 'Li', 'Go', 'In', 'Ma', 'I ', 'Le', 'O ', 'Ti', 'Bi', 'Le', 'Br', 'Le', 'Lo', 'Oh', 'I ', 'Pr', 'No', 'Wr', 'Ve', 'Be', 'Hu', 'Yo', 'Mo', 'Wh', 'Ta', 'Th', 'We', 'At', 'At', 'Be', 'Th', 'Wh', 'Yo', 'An', 'Th', 'Th', 'Kn', 'Le', 'I ', 'Th', 'We']\n",
      "['Jp', 'pp', 'pp', 'pp', 'Jp', 'pp', ' p', 'Zp', 'pp', 'xp', 'pp', 'pp', 'pp', 'Jp', 'pp', 'pp', 'pp', 'Jp', 'pp', 'pp', 'pp', 'pp', 'pp', 'Jæ', 'pp', '\\xa0p', 'pp', 'pp', 'pp', 'fp', 'pp', 'Jp', 'pp', 'pp', 'pp', 'pp', ' p', 'pp', ' p', 'pp', 'Jp', 'pp', ' p', 'pp', 'pp', 'Jp', 'Jp', 'pp', 'pp', 'pp', 'pp', 'pp', 'pp', 'np', 'pp', 'pp', 'pp', 'pp', 'pp', 'xp', 'pp', 'Jp', 'pp', 'Jp', 'xp', 'pp', 'pp', 'pp', 'pp', 'pp', 'xp', 'pp', 'pp', 'Jp', 'pp', 'pp', 'pp', 'pp', 'pp', 'pp', 'pp', 'pp', 'pp', 'np', 'pp', 'pp', 'pp', 'pp', 'pp', 'pp', 'pp', 'pp', 'Jp', 'xp', 'Op', 'Jx', 'pp', 'Jp', 'pp', 'pp']\n",
      "D_loss: 0.7492532134056091, G_loss: 0.761185884475708\n",
      "60\n",
      "['I ', 'Ye', 'Ma', 'We', 'An', 'Th', 'Ca', 'Ma', 'Bu', 'Fi', 'Pr', 'He', 'Fr', 'I ', 'He', 'Fo', 'Fo', 'I ', 'Ma', 'Th', 'Go', 'Wh', 'He', 'I’', 'Th', 'Sa', 'Th', 'He', 'Ro', 'Na', 'Wh', 'I ', 'Go', 'Th', 'So', 'Me', 'Ca', 'Th', 'Ca', 'He', 'I ', 'Th', 'Co', 'Th', 'Gi', 'I ', 'Is', 'Th', 'Do', 'Sh', 'Go', 'I ', 'He', 'Ta', 'To', 'He', 'Oh', 'Ge', 'Th', 'Li', 'Go', 'In', 'Ma', 'I ', 'Le', 'O ', 'Ti', 'Bi', 'Le', 'Br', 'Le', 'Lo', 'Oh', 'I ', 'Pr', 'No', 'Wr', 'Ve', 'Be', 'Hu', 'Yo', 'Mo', 'Wh', 'Ta', 'Th', 'We', 'At', 'At', 'Be', 'Th', 'Wh', 'Yo', 'An', 'Th', 'Th', 'Kn', 'Le', 'I ', 'Th', 'We']\n",
      "['JJ', 'pp', 'pp', 'pp', 'Jp', '…p', ' p', 'Zp', 'pp', 'xx', 'pp', 'pp', 'pp', 'Jp', 'pp', 'pp', 'pp', 'JJ', 'pp', 'xp', 'Ap', 'pp', 'Jp', 'Jæ', 'op', 'Jx', 'xp', 'pp', 'pp', 'fp', 'pp', 'JJ', 'Ap', 'xp', 'pp', 'pp', ' p', 'op', ' p', 'pp', 'Jp', 'xp', ' p', 'op', 'pp', 'JJ', 'Jp', 'xp', 'pp', 'bp', 'pp', 'Jp', 'pp', 'np', 'pp', 'pp', 'pp', 'pp', 'xp', 'xp', 'Ap', 'JJ', '…a', 'JJ', 'xp', 'Jp', 'pp', 'pp', 'pp', 'pp', 'xp', 'pp', 'pp', 'Jp', 'æp', 'pp', 'pp', 'pp', 'pp', 'pp', 'pp', 'pp', 'pp', 'np', 'op', 'pp', 'Jp', 'Jp', 'pp', 'xp', 'pp', 'pp', 'Jp', 'xp', 'Op', 'Jx', 'pp', 'JJ', 'xp', 'pp']\n",
      "D_loss: 0.7544265985488892, G_loss: 0.755001962184906\n",
      "64\n",
      "['I ', 'Ye', 'Ma', 'We', 'An', 'Th', 'Ca', 'Ma', 'Bu', 'Fi', 'Pr', 'He', 'Fr', 'I ', 'He', 'Fo', 'Fo', 'I ', 'Ma', 'Th', 'Go', 'Wh', 'He', 'I’', 'Th', 'Sa', 'Th', 'He', 'Ro', 'Na', 'Wh', 'I ', 'Go', 'Th', 'So', 'Me', 'Ca', 'Th', 'Ca', 'He', 'I ', 'Th', 'Co', 'Th', 'Gi', 'I ', 'Is', 'Th', 'Do', 'Sh', 'Go', 'I ', 'He', 'Ta', 'To', 'He', 'Oh', 'Ge', 'Th', 'Li', 'Go', 'In', 'Ma', 'I ', 'Le', 'O ', 'Ti', 'Bi', 'Le', 'Br', 'Le', 'Lo', 'Oh', 'I ', 'Pr', 'No', 'Wr', 'Ve', 'Be', 'Hu', 'Yo', 'Mo', 'Wh', 'Ta', 'Th', 'We', 'At', 'At', 'Be', 'Th', 'Wh', 'Yo', 'An', 'Th', 'Th', 'Kn', 'Le', 'I ', 'Th', 'We']\n",
      "['JJ', 'pp', 'pp', 'pp', 'JJ', '…p', ' p', 'Zp', 'pp', 'xx', 'çp', 'pp', 'pp', 'Jæ', 'pp', 'pp', 'pp', 'JJ', 'pp', 'xp', 'Ap', 'pp', 'Jp', 'Jæ', 'op', 'Jx', 'xp', 'pp', 'pp', 'fp', 'pp', 'JJ', 'Ap', 'xp', 'pp', 'pp', ' p', 'op', ' p', 'pp', 'JJ', 'xp', ' p', 'op', 'pp', 'JJ', 'Jp', 'xp', 'pp', 'bp', 'pp', 'Jp', 'pp', 'np', 'pp', 'pp', 'pp', 'pp', 'xp', 'xx', 'Ap', 'JJ', 'Ja', 'JJ', 'xx', 'Jp', 'pp', 'pp', 'xp', 'pp', 'xx', 'pp', 'pp', 'Jæ', 'Zp', 'pp', 'pp', 'pp', 'pp', 'pp', 'pp', 'pp', 'pp', 'np', 'op', 'pp', 'Jp', 'Jp', 'pp', 'xp', 'pp', 'pp', 'JJ', 'xp', 'Op', 'Jæ', 'xp', 'JJ', 'xp', 'pp']\n",
      "D_loss: 0.7554122805595398, G_loss: 0.7534781098365784\n",
      "68\n",
      "['I ', 'Ye', 'Ma', 'We', 'An', 'Th', 'Ca', 'Ma', 'Bu', 'Fi', 'Pr', 'He', 'Fr', 'I ', 'He', 'Fo', 'Fo', 'I ', 'Ma', 'Th', 'Go', 'Wh', 'He', 'I’', 'Th', 'Sa', 'Th', 'He', 'Ro', 'Na', 'Wh', 'I ', 'Go', 'Th', 'So', 'Me', 'Ca', 'Th', 'Ca', 'He', 'I ', 'Th', 'Co', 'Th', 'Gi', 'I ', 'Is', 'Th', 'Do', 'Sh', 'Go', 'I ', 'He', 'Ta', 'To', 'He', 'Oh', 'Ge', 'Th', 'Li', 'Go', 'In', 'Ma', 'I ', 'Le', 'O ', 'Ti', 'Bi', 'Le', 'Br', 'Le', 'Lo', 'Oh', 'I ', 'Pr', 'No', 'Wr', 'Ve', 'Be', 'Hu', 'Yo', 'Mo', 'Wh', 'Ta', 'Th', 'We', 'At', 'At', 'Be', 'Th', 'Wh', 'Yo', 'An', 'Th', 'Th', 'Kn', 'Le', 'I ', 'Th', 'We']\n",
      "['JJ', 'pp', 'pp', 'pp', 'JJ', '…p', '  ', 'Zp', 'pp', 'xx', ';p', 'pp', 'pp', 'JJ', 'pp', 'Up', 'Up', 'JJ', 'pp', 'xp', 'Ap', 'pp', 'Jp', 'JJ', \"'g\", 'Jx', 'xp', 'pp', 'pp', 'fx', 'pp', 'JJ', 'Ap', 'xp', 'pp', 'pp', '  ', \"'g\", '  ', 'pp', 'JJ', 'xp', ' p', \"'g\", 'pp', 'JJ', 'JJ', 'xp', 'pp', 'bp', 'pp', 'Jp', 'pp', 'np', 'pp', 'pp', 'pp', 'Jp', 'xp', 'xx', 'Ap', 'JJ', 'Ja', 'JJ', 'xx', 'Jp', '…p', 'pp', 'xp', 'pp', 'xx', 'pp', 'pp', 'JJ', 'Uæ', 'pp', 'pp', 'pp', 'pp', 'pp', 'pp', 'pp', 'pp', 'np', \"'g\", 'pp', 'Jæ', 'Jæ', 'pp', 'xp', 'pp', 'pp', 'JJ', 'Lp', 'Op', 'Jæ', 'xp', 'JJ', 'xp', 'pp']\n",
      "D_loss: 0.7578589916229248, G_loss: 0.7502050995826721\n",
      "72\n",
      "['I ', 'Ye', 'Ma', 'We', 'An', 'Th', 'Ca', 'Ma', 'Bu', 'Fi', 'Pr', 'He', 'Fr', 'I ', 'He', 'Fo', 'Fo', 'I ', 'Ma', 'Th', 'Go', 'Wh', 'He', 'I’', 'Th', 'Sa', 'Th', 'He', 'Ro', 'Na', 'Wh', 'I ', 'Go', 'Th', 'So', 'Me', 'Ca', 'Th', 'Ca', 'He', 'I ', 'Th', 'Co', 'Th', 'Gi', 'I ', 'Is', 'Th', 'Do', 'Sh', 'Go', 'I ', 'He', 'Ta', 'To', 'He', 'Oh', 'Ge', 'Th', 'Li', 'Go', 'In', 'Ma', 'I ', 'Le', 'O ', 'Ti', 'Bi', 'Le', 'Br', 'Le', 'Lo', 'Oh', 'I ', 'Pr', 'No', 'Wr', 'Ve', 'Be', 'Hu', 'Yo', 'Mo', 'Wh', 'Ta', 'Th', 'We', 'At', 'At', 'Be', 'Th', 'Wh', 'Yo', 'An', 'Th', 'Th', 'Kn', 'Le', 'I ', 'Th', 'We']\n",
      "['JJ', 'pp', 'pæ', 'pp', 'JJ', '…p', '  ', 'Zæ', 'pp', 'xx', ';p', 'pp', 'pp', 'JJ', 'pp', 'Up', 'Up', 'JJ', 'pæ', 'Op', 'Ap', 'pp', 'Jp', 'JJ', \"'g\", 'Jx', 'Op', 'pp', 'pp', 'fx', 'pp', 'JJ', 'Ap', 'Op', 'cp', 'Jp', '  ', \"'g\", '  ', 'pp', 'JJ', 'Op', ' p', \"'g\", 'pp', 'JJ', 'JJ', 'Op', 'Kp', 'bg', 'pp', 'JJ', 'pp', 'Dn', 'pp', 'pp', 'pp', 'Jp', 'Op', 'xx', 'Ap', 'JJ', 'Ja', 'JJ', 'xx', 'Jp', 'Wp', 'pp', 'xx', 'pp', 'xx', 'Ap', 'pp', 'JJ', 'Ub', 'pp', 'pp', 'Æp', 'pp', 'pp', 'pp', 'pp', 'pp', 'Dn', \"'g\", 'pp', 'Jæ', 'Jæ', 'pp', 'Op', 'pp', 'pp', 'JJ', 'Lp', 'Ox', 'JJ', 'xx', 'JJ', 'Op', 'pp']\n",
      "D_loss: 0.754324734210968, G_loss: 0.7532305121421814\n",
      "76\n",
      "['I ', 'Ye', 'Ma', 'We', 'An', 'Th', 'Ca', 'Ma', 'Bu', 'Fi', 'Pr', 'He', 'Fr', 'I ', 'He', 'Fo', 'Fo', 'I ', 'Ma', 'Th', 'Go', 'Wh', 'He', 'I’', 'Th', 'Sa', 'Th', 'He', 'Ro', 'Na', 'Wh', 'I ', 'Go', 'Th', 'So', 'Me', 'Ca', 'Th', 'Ca', 'He', 'I ', 'Th', 'Co', 'Th', 'Gi', 'I ', 'Is', 'Th', 'Do', 'Sh', 'Go', 'I ', 'He', 'Ta', 'To', 'He', 'Oh', 'Ge', 'Th', 'Li', 'Go', 'In', 'Ma', 'I ', 'Le', 'O ', 'Ti', 'Bi', 'Le', 'Br', 'Le', 'Lo', 'Oh', 'I ', 'Pr', 'No', 'Wr', 'Ve', 'Be', 'Hu', 'Yo', 'Mo', 'Wh', 'Ta', 'Th', 'We', 'At', 'At', 'Be', 'Th', 'Wh', 'Yo', 'An', 'Th', 'Th', 'Kn', 'Le', 'I ', 'Th', 'We']\n",
      "['JJ', 'pp', 'dæ', 'pp', 'JJ', '…g', '  ', 'Zæ', 'pp', 'xx', ';æ', 'pp', 'Up', 'JJ', 'pp', 'Up', 'Up', 'JJ', 'dæ', 'Ox', 'AA', 'pp', 'Jp', 'JJ', 'Dg', 'Jx', 'Ox', 'pp', 'pp', 'fx', 'pp', 'JJ', 'AA', 'Ox', 'bp', 'Jp', '  ', 'Dg', '  ', 'pp', 'JJ', 'Ox', ' p', 'Dg', 'pp', 'JJ', 'JJ', 'Ox', 'Kp', 'bb', 'Ap', 'JJ', 'pp', 'Dn', 'pp', 'pp', 'pp', 'Jx', 'Ox', 'xx', 'AA', 'JJ', 'Ja', 'JJ', 'xx', 'Jp', 'Wp', 'pp', 'xx', ';p', 'xx', 'Ap', 'Jp', 'JJ', 'Ub', 'pp', 'pp', 'Æp', 'pp', 'pp', 'pp', 'pp', 'pp', 'Dn', 'Dg', 'pp', 'Jæ', 'Jæ', 'pp', 'Ox', 'pp', 'pp', 'JJ', 'Lx', 'Ox', 'JJ', 'xx', 'JJ', 'Ox', 'pp']\n",
      "D_loss: 0.757699191570282, G_loss: 0.748918890953064\n",
      "80\n",
      "['I ', 'Ye', 'Ma', 'We', 'An', 'Th', 'Ca', 'Ma', 'Bu', 'Fi', 'Pr', 'He', 'Fr', 'I ', 'He', 'Fo', 'Fo', 'I ', 'Ma', 'Th', 'Go', 'Wh', 'He', 'I’', 'Th', 'Sa', 'Th', 'He', 'Ro', 'Na', 'Wh', 'I ', 'Go', 'Th', 'So', 'Me', 'Ca', 'Th', 'Ca', 'He', 'I ', 'Th', 'Co', 'Th', 'Gi', 'I ', 'Is', 'Th', 'Do', 'Sh', 'Go', 'I ', 'He', 'Ta', 'To', 'He', 'Oh', 'Ge', 'Th', 'Li', 'Go', 'In', 'Ma', 'I ', 'Le', 'O ', 'Ti', 'Bi', 'Le', 'Br', 'Le', 'Lo', 'Oh', 'I ', 'Pr', 'No', 'Wr', 'Ve', 'Be', 'Hu', 'Yo', 'Mo', 'Wh', 'Ta', 'Th', 'We', 'At', 'At', 'Be', 'Th', 'Wh', 'Yo', 'An', 'Th', 'Th', 'Kn', 'Le', 'I ', 'Th', 'We']\n",
      "['JJ', 'pp', 'dæ', 'pp', 'JJ', '…g', '  ', 'Zb', 'pp', 'xx', ';;', 'pp', 'Up', 'JJ', 'pp', 'Up', 'Up', 'JJ', 'dæ', 'Ox', 'AA', 'pp', 'Jp', 'JJ', 'Dg', 'Jx', 'Ox', 'pp', 'pp', 'fx', 'pp', 'JJ', 'AA', 'Ox', 'bb', 'Jb', '  ', 'Dg', '  ', 'pp', 'JJ', 'Ox', ' p', 'Dg', 'Jp', 'JJ', 'JJ', 'Ox', 'Kp', 'bb', 'Ap', 'JJ', 'pp', 'Dn', 'pp', 'pp', 'pp', 'Jx', 'Ox', 'xx', 'AA', 'JJ', 'Ja', 'JJ', 'xx', 'Jp', 'Wp', 'pp', 'xx', ';p', 'xx', 'Ap', 'Jp', 'JJ', 'Ub', 'pp', 'pp', 'Æp', 'pp', 'pp', 'pp', 'pp', 'pp', 'Dn', 'Dg', 'pp', 'Jæ', 'Jæ', 'pp', 'Ox', 'pp', 'pp', 'JJ', 'Lx', 'Ox', 'JJ', 'xx', 'JJ', 'Ox', 'pp']\n",
      "D_loss: 0.756432056427002, G_loss: 0.7495521306991577\n",
      "84\n",
      "['I ', 'Ye', 'Ma', 'We', 'An', 'Th', 'Ca', 'Ma', 'Bu', 'Fi', 'Pr', 'He', 'Fr', 'I ', 'He', 'Fo', 'Fo', 'I ', 'Ma', 'Th', 'Go', 'Wh', 'He', 'I’', 'Th', 'Sa', 'Th', 'He', 'Ro', 'Na', 'Wh', 'I ', 'Go', 'Th', 'So', 'Me', 'Ca', 'Th', 'Ca', 'He', 'I ', 'Th', 'Co', 'Th', 'Gi', 'I ', 'Is', 'Th', 'Do', 'Sh', 'Go', 'I ', 'He', 'Ta', 'To', 'He', 'Oh', 'Ge', 'Th', 'Li', 'Go', 'In', 'Ma', 'I ', 'Le', 'O ', 'Ti', 'Bi', 'Le', 'Br', 'Le', 'Lo', 'Oh', 'I ', 'Pr', 'No', 'Wr', 'Ve', 'Be', 'Hu', 'Yo', 'Mo', 'Wh', 'Ta', 'Th', 'We', 'At', 'At', 'Be', 'Th', 'Wh', 'Yo', 'An', 'Th', 'Th', 'Kn', 'Le', 'I ', 'Th', 'We']\n",
      "['JJ', 'pp', 'Jæ', 'pp', 'JJ', 'gg', '  ', 'Zb', 'pp', 'xx', ';;', 'pp', 'Up', 'JJ', 'pp', 'Up', 'Up', 'JJ', 'Jæ', 'Og', 'AA', 'pp', 'Jp', 'JJ', 'Dg', 'Jx', 'Og', 'pp', 'pp', 'Ux', 'pp', 'JJ', 'AA', 'Og', 'bb', 'Jb', '  ', 'Dg', '  ', 'pp', 'JJ', 'Og', ' p', 'Dg', 'Jp', 'JJ', 'JJ', 'Og', 'Kp', 'Jb', 'Ap', 'JJ', 'pp', 'Dn', 'pp', 'pp', 'pp', 'Jx', 'Og', 'xx', 'AA', 'JJ', 'Jb', 'JJ', 'xx', 'Jp', 'Wp', 'pp', 'xx', ';p', 'xx', 'Ap', 'Jg', 'JJ', 'Ub', 'pp', 'pp', 'Æp', 'pp', 'pp', 'pp', 'pp', 'pp', 'Dn', 'Dg', 'pp', 'JJ', 'JJ', 'pp', 'Og', 'pp', 'pp', 'JJ', 'Lp', 'Ox', 'JJ', 'xx', 'JJ', 'Og', 'pp']\n",
      "D_loss: 0.7612963914871216, G_loss: 0.7431409955024719\n",
      "88\n",
      "['I ', 'Ye', 'Ma', 'We', 'An', 'Th', 'Ca', 'Ma', 'Bu', 'Fi', 'Pr', 'He', 'Fr', 'I ', 'He', 'Fo', 'Fo', 'I ', 'Ma', 'Th', 'Go', 'Wh', 'He', 'I’', 'Th', 'Sa', 'Th', 'He', 'Ro', 'Na', 'Wh', 'I ', 'Go', 'Th', 'So', 'Me', 'Ca', 'Th', 'Ca', 'He', 'I ', 'Th', 'Co', 'Th', 'Gi', 'I ', 'Is', 'Th', 'Do', 'Sh', 'Go', 'I ', 'He', 'Ta', 'To', 'He', 'Oh', 'Ge', 'Th', 'Li', 'Go', 'In', 'Ma', 'I ', 'Le', 'O ', 'Ti', 'Bi', 'Le', 'Br', 'Le', 'Lo', 'Oh', 'I ', 'Pr', 'No', 'Wr', 'Ve', 'Be', 'Hu', 'Yo', 'Mo', 'Wh', 'Ta', 'Th', 'We', 'At', 'At', 'Be', 'Th', 'Wh', 'Yo', 'An', 'Th', 'Th', 'Kn', 'Le', 'I ', 'Th', 'We']\n",
      "['JJ', 'pp', 'Jæ', 'pp', 'JJ', 'gg', '  ', 'æb', 'pp', 'xx', 'U;', 'pp', 'U;', 'JJ', 'pp', 'Up', 'Up', 'JJ', 'Jæ', 'Og', 'AA', 'pp', 'Jp', 'JJ', 'Dg', 'Jb', 'Og', 'pp', 'pp', 'UG', 'pp', 'JJ', 'AA', 'Og', 'æb', 'Jb', '  ', 'Dg', '  ', 'pp', 'JJ', 'Og', ' p', 'Dg', \"p'\", 'JJ', 'JJ', 'Og', 'Kp', 'Jb', 'Ap', 'JJ', 'pp', 'Db', 'pp', 'pp', ':g', 'Jx', 'Og', 'xx', 'AA', 'JJ', 'Jb', 'JJ', 'xx', 'Æg', 'Wp', 'p;', 'xx', ';;', 'xx', 'Ap', ':g', 'JJ', 'Ub', 'pp', 'pp', 'Æp', 'pp', 'pp', 'pp', 'pp', 'pp', 'Db', 'Dg', 'pp', 'JJ', 'JJ', 'pp', 'Og', 'pp', 'pp', 'JJ', 'Lp', 'Og', 'JJ', 'xx', 'JJ', 'Og', 'pp']\n",
      "D_loss: 0.7617140412330627, G_loss: 0.7413625121116638\n",
      "92\n",
      "['I ', 'Ye', 'Ma', 'We', 'An', 'Th', 'Ca', 'Ma', 'Bu', 'Fi', 'Pr', 'He', 'Fr', 'I ', 'He', 'Fo', 'Fo', 'I ', 'Ma', 'Th', 'Go', 'Wh', 'He', 'I’', 'Th', 'Sa', 'Th', 'He', 'Ro', 'Na', 'Wh', 'I ', 'Go', 'Th', 'So', 'Me', 'Ca', 'Th', 'Ca', 'He', 'I ', 'Th', 'Co', 'Th', 'Gi', 'I ', 'Is', 'Th', 'Do', 'Sh', 'Go', 'I ', 'He', 'Ta', 'To', 'He', 'Oh', 'Ge', 'Th', 'Li', 'Go', 'In', 'Ma', 'I ', 'Le', 'O ', 'Ti', 'Bi', 'Le', 'Br', 'Le', 'Lo', 'Oh', 'I ', 'Pr', 'No', 'Wr', 'Ve', 'Be', 'Hu', 'Yo', 'Mo', 'Wh', 'Ta', 'Th', 'We', 'At', 'At', 'Be', 'Th', 'Wh', 'Yo', 'An', 'Th', 'Th', 'Kn', 'Le', 'I ', 'Th', 'We']\n",
      "['JJ', 'pp', 'Jæ', 'pp', 'JJ', 'gg', '  ', 'æb', 'pp', 'xx', 'U;', 'Aæ', 'U;', 'JJ', 'Aæ', 'Up', 'Up', 'JJ', 'Jæ', 'Og', 'AA', 'pp', 'Jp', 'JJ', 'Dg', 'Jx', 'Og', 'Aæ', \"'p\", 'UG', 'pp', 'JJ', 'AA', 'Og', 'cb', 'Jb', '  ', 'Dg', '  ', 'pp', 'JJ', 'Og', '  ', 'Dg', \"p'\", 'JJ', 'JJ', 'Og', 'Kp', 'Jb', 'Ap', 'JJ', 'pp', 'Db', 'pp', 'Aæ', ':g', 'Jx', 'Og', 'xx', 'AA', 'JJ', 'Jb', 'JJ', 'xx', 'Æg', 'Wp', 'p;', 'xx', ';;', 'xx', 'Ap', ':g', 'JJ', 'Ub', 'pp', 'pp', 'Æp', 'pp', 'pp', 'pp', 'Kp', 'pp', 'Db', 'Dg', 'Ap', 'JJ', 'JJ', 'pp', 'Og', 'pp', 'pp', 'JJ', 'Lp', 'Dg', 'JJ', 'xx', 'JJ', 'Og', 'pp']\n",
      "D_loss: 0.756547212600708, G_loss: 0.7450369000434875\n",
      "96\n",
      "['I ', 'Ye', 'Ma', 'We', 'An', 'Th', 'Ca', 'Ma', 'Bu', 'Fi', 'Pr', 'He', 'Fr', 'I ', 'He', 'Fo', 'Fo', 'I ', 'Ma', 'Th', 'Go', 'Wh', 'He', 'I’', 'Th', 'Sa', 'Th', 'He', 'Ro', 'Na', 'Wh', 'I ', 'Go', 'Th', 'So', 'Me', 'Ca', 'Th', 'Ca', 'He', 'I ', 'Th', 'Co', 'Th', 'Gi', 'I ', 'Is', 'Th', 'Do', 'Sh', 'Go', 'I ', 'He', 'Ta', 'To', 'He', 'Oh', 'Ge', 'Th', 'Li', 'Go', 'In', 'Ma', 'I ', 'Le', 'O ', 'Ti', 'Bi', 'Le', 'Br', 'Le', 'Lo', 'Oh', 'I ', 'Pr', 'No', 'Wr', 'Ve', 'Be', 'Hu', 'Yo', 'Mo', 'Wh', 'Ta', 'Th', 'We', 'At', 'At', 'Be', 'Th', 'Wh', 'Yo', 'An', 'Th', 'Th', 'Kn', 'Le', 'I ', 'Th', 'We']\n",
      "['JJ', 'pp', \"''\", 'Ap', 'JJ', 'gg', '  ', 'fb', 'ip', 'xx', 'U;', 'Aæ', 'U;', 'JJ', 'Aæ', 'Up', 'Up', 'JJ', \"''\", 'xg', 'AA', 'pp', 'Jp', 'JJ', 'Dg', 'Jx', 'xg', 'Aæ', \"''\", 'UG', 'pp', 'JJ', 'AA', 'xg', 'cb', 'Jb', '  ', 'Dg', '  ', 'pp', 'JJ', 'xg', '  ', 'Dg', \"w'\", 'JJ', 'JJ', 'xg', 'Kp', 'Jb', 'Ap', 'JJ', 'pp', 'D;', 'pp', 'Aæ', ':g', 'Jx', 'xg', 'xx', 'AA', 'JJ', 'Jb', 'JJ', 'xx', 'Æg', 'Wp', 'p;', 'xx', ';;', 'xx', 'Ap', ':g', 'JJ', 'Ub', 'pp', 'pp', 'ÆÆ', 'pp', 'pp', 'pp', 'Kp', 'pp', 'D;', 'Dg', 'Ap', 'JJ', 'JJ', 'pp', 'xg', 'pp', 'pp', 'JJ', 'Lp', 'Dg', 'JJ', 'xx', 'JJ', 'xg', 'Ap']\n"
     ]
    }
   ],
   "source": [
    "init = tf.global_variables_initializer()\n",
    "num_epochs = 20\n",
    "X = X_org[:,:max_length]\n",
    "batch_size = 100\n",
    "saved_model_path = '../models/lstm_ae_wa/lstm_ae_wa.ckpt'\n",
    "checkpoint_dir = '../models/lstm_ae_wa'\n",
    "\n",
    "saver = tf.train.Saver()\n",
    "losses = []\n",
    "step = 0\n",
    "curriculum_size = 2\n",
    "curriculum_error = 0.01\n",
    "with tf.Session() as sess:\n",
    "    #try:\n",
    "        #saver.restore(sess, tf.train.latest_checkpoint(checkpoint_dir))\n",
    "    #except:\n",
    "        #print('No model')\n",
    "    sess.run(init)\n",
    "        \n",
    "    # Train\n",
    "    \n",
    "    for i in range(num_epochs):\n",
    "        num_batches = int(X.shape[0] / batch_size)\n",
    "        for b in range(num_batches):\n",
    "            batch_x = X[b * batch_size:(b + 1) * batch_size]\n",
    "            batch_x = np.copy(batch_x)[:,:curriculum_size]\n",
    "            sess.run([D_train_step, G_train_step], feed_dict={x_input: batch_x})\n",
    "            \n",
    "            if i % 4 == 0 and b == 0:\n",
    "                D_loss_i, G_loss_i = sess.run([D_loss, G_loss], feed_dict={x_input: batch_x})\n",
    "                print(\"D_loss: {0}, G_loss: {1}\".format(D_loss_i, G_loss_i))\n",
    "                losses.append((D_loss_i, G_loss_i))\n",
    "                \n",
    "                x_gen_i = sess.run(decoder_output, feed_dict={x_input: batch_x})\n",
    "                x_gen_i = np.argmax(x_gen_i, axis=2)\n",
    "                print(i)\n",
    "                print(textify_samples(batch_x))\n",
    "                print(textify_samples(x_gen_i))\n",
    "                \n",
    "                if abs(D_loss_i - G_loss_i) < curriculum_error:\n",
    "                    #curriculum_size += 1\n",
    "                    pass\n",
    "\n",
    "                saver.save(sess, saved_model_path, global_step=step)\n",
    "            step += batch_size"
   ]
  },
  {
   "cell_type": "code",
   "execution_count": 153,
   "metadata": {
    "collapsed": false
   },
   "outputs": [
    {
     "data": {
      "image/png": "[encoded data removed]",
      "text/plain": [
       "<matplotlib.figure.Figure at 0x14c785c18>"
      ]
     },
     "metadata": {},
     "output_type": "display_data"
    }
   ],
   "source": [
    "%matplotlib inline\n",
    "import matplotlib.pyplot as plt\n",
    "\n",
    "list_d_loss, list_g_loss = [], []\n",
    "for d_loss, g_loss in losses:\n",
    "    list_d_loss.append(d_loss)\n",
    "    list_g_loss.append(g_loss)\n",
    "\n",
    "plt.plot(list_d_loss)\n",
    "plt.plot(list_g_loss)\n",
    "plt.show()"
   ]
  },
  {
   "cell_type": "code",
   "execution_count": null,
   "metadata": {
    "collapsed": true
   },
   "outputs": [],
   "source": []
  }
 ],
 "metadata": {
  "anaconda-cloud": {},
  "kernelspec": {
   "display_name": "Python [conda root]",
   "language": "python",
   "name": "conda-root-py"
  },
  "language_info": {
   "codemirror_mode": {
    "name": "ipython",
    "version": 3
   },
   "file_extension": ".py",
   "mimetype": "text/x-python",
   "name": "python",
   "nbconvert_exporter": "python",
   "pygments_lexer": "ipython3",
   "version": "3.5.2"
  }
 },
 "nbformat": 4,
 "nbformat_minor": 1
}
